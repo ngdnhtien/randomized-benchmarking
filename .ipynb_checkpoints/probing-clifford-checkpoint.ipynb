{
 "cells": [
  {
   "cell_type": "markdown",
   "id": "49bcaf59",
   "metadata": {},
   "source": [
    "# Why Clifford?\n",
    "\n",
    "While original pro"
   ]
  },
  {
   "cell_type": "code",
   "execution_count": 21,
   "id": "4d56774b",
   "metadata": {},
   "outputs": [],
   "source": [
    "import numpy as np\n",
    "from numpy.linalg import matrix_power\n",
    "from qiskit.visualization import array_to_latex\n",
    "sqrt = np.sqrt\n",
    "exp = np.exp\n",
    "pi = np.pi\n",
    "arr = np.array"
   ]
  },
  {
   "cell_type": "code",
   "execution_count": 22,
   "id": "1c9b458f",
   "metadata": {},
   "outputs": [],
   "source": [
    "d = 3 # d-dimensional Lie group, here Clifford C_3 d=3\n",
    "omega = exp(2*pi*1j/d) # root of unity"
   ]
  },
  {
   "cell_type": "code",
   "execution_count": 23,
   "id": "beb3831f",
   "metadata": {},
   "outputs": [],
   "source": [
    "# generators of C_3 = <X,H>\n",
    "\n",
    "Hdm = 1/sqrt(3)*arr([\n",
    "    [1, 1       ,   1        ],\n",
    "    [1, omega   ,   omega**2 ],\n",
    "    [1, omega**2,   omega    ]\n",
    "])\n",
    "\n",
    "Sgd = arr([\n",
    "    [1,     0,    0        ],\n",
    "    [0,     1,    0        ],\n",
    "    [0,     0,    omega    ]\n",
    "])\n",
    "\n",
    "X_01 = arr([\n",
    "    [0,     1,    0    ],\n",
    "    [1,     0,    0    ],\n",
    "    [0,     0,    1    ]\n",
    "])\n",
    "\n",
    "X_12 = arr([\n",
    "    [1,     0,    0    ],\n",
    "    [0,     0,    1    ],\n",
    "    [0,     1,    0    ]\n",
    "])\n",
    "\n",
    "Id = arr([\n",
    "    [1, 0, 0],\n",
    "    [0, 1, 0],\n",
    "    [0, 0, 1]\n",
    "])"
   ]
  },
  {
   "cell_type": "code",
   "execution_count": 24,
   "id": "3c70c4b1",
   "metadata": {},
   "outputs": [
    {
     "data": {
      "text/latex": [
       "$$\n",
       "\\text{Unitary} = \n",
       "\\begin{bmatrix}\n",
       "\\tfrac{1}{\\sqrt{3}} & \\tfrac{1}{\\sqrt{3}} & \\tfrac{1}{\\sqrt{3}}  \\\\\n",
       " \\tfrac{1}{\\sqrt{3}} & -0.28868 + \\tfrac{1}{2}i & -0.28868 - \\tfrac{1}{2}i  \\\\\n",
       " \\tfrac{1}{\\sqrt{3}} & -0.28868 - \\tfrac{1}{2}i & -0.28868 + \\tfrac{1}{2}i  \\\\\n",
       " \\end{bmatrix}\n",
       "$$"
      ],
      "text/plain": [
       "<IPython.core.display.Latex object>"
      ]
     },
     "execution_count": 24,
     "metadata": {},
     "output_type": "execute_result"
    }
   ],
   "source": [
    "array_to_latex(Hdm, prefix=\"\\\\text{Unitary} = \")"
   ]
  },
  {
   "cell_type": "code",
   "execution_count": 148,
   "id": "facab8e9",
   "metadata": {},
   "outputs": [],
   "source": [
    "A = []\n",
    "for i in range(8):\n",
    "    if i == 0:\n",
    "        A.append(\"H\")\n",
    "        A.append(\"S\")\n",
    "    else: \n",
    "        for j in range(sum_index(i),sum_index(i)+2**i):\n",
    "            A.append(A[j]+\"H\")\n",
    "            A.append(A[j]+\"S\")"
   ]
  },
  {
   "cell_type": "code",
   "execution_count": 119,
   "id": "8b517924",
   "metadata": {},
   "outputs": [
    {
     "data": {
      "text/plain": [
       "['H',\n",
       " 'S',\n",
       " 'HH',\n",
       " 'HS',\n",
       " 'SH',\n",
       " 'SS',\n",
       " 'HHH',\n",
       " 'HHS',\n",
       " 'HSH',\n",
       " 'HSS',\n",
       " 'SHH',\n",
       " 'SHS',\n",
       " 'SSH',\n",
       " 'SSS',\n",
       " 'HHHH',\n",
       " 'HHHS',\n",
       " 'HHSH',\n",
       " 'HHSS',\n",
       " 'HSHH',\n",
       " 'HSHS',\n",
       " 'HSSH',\n",
       " 'HSSS',\n",
       " 'SHHH',\n",
       " 'SHHS',\n",
       " 'SHSH',\n",
       " 'SHSS',\n",
       " 'SSHH',\n",
       " 'SSHS',\n",
       " 'SSSH',\n",
       " 'SSSS',\n",
       " 'HHHHH',\n",
       " 'HHHHS',\n",
       " 'HHHSH',\n",
       " 'HHHSS',\n",
       " 'HHSHH',\n",
       " 'HHSHS',\n",
       " 'HHSSH',\n",
       " 'HHSSS',\n",
       " 'HSHHH',\n",
       " 'HSHHS',\n",
       " 'HSHSH',\n",
       " 'HSHSS',\n",
       " 'HSSHH',\n",
       " 'HSSHS',\n",
       " 'HSSSH',\n",
       " 'HSSSS',\n",
       " 'SHHHH',\n",
       " 'SHHHS',\n",
       " 'SHHSH',\n",
       " 'SHHSS',\n",
       " 'SHSHH',\n",
       " 'SHSHS',\n",
       " 'SHSSH',\n",
       " 'SHSSS',\n",
       " 'SSHHH',\n",
       " 'SSHHS',\n",
       " 'SSHSH',\n",
       " 'SSHSS',\n",
       " 'SSSHH',\n",
       " 'SSSHS',\n",
       " 'SSSSH',\n",
       " 'SSSSS',\n",
       " 'HHHHHH',\n",
       " 'HHHHHS',\n",
       " 'HHHHSH',\n",
       " 'HHHHSS',\n",
       " 'HHHSHH',\n",
       " 'HHHSHS',\n",
       " 'HHHSSH',\n",
       " 'HHHSSS',\n",
       " 'HHSHHH',\n",
       " 'HHSHHS',\n",
       " 'HHSHSH',\n",
       " 'HHSHSS',\n",
       " 'HHSSHH',\n",
       " 'HHSSHS',\n",
       " 'HHSSSH',\n",
       " 'HHSSSS',\n",
       " 'HSHHHH',\n",
       " 'HSHHHS',\n",
       " 'HSHHSH',\n",
       " 'HSHHSS',\n",
       " 'HSHSHH',\n",
       " 'HSHSHS',\n",
       " 'HSHSSH',\n",
       " 'HSHSSS',\n",
       " 'HSSHHH',\n",
       " 'HSSHHS',\n",
       " 'HSSHSH',\n",
       " 'HSSHSS',\n",
       " 'HSSSHH',\n",
       " 'HSSSHS',\n",
       " 'HSSSSH',\n",
       " 'HSSSSS',\n",
       " 'SHHHHH',\n",
       " 'SHHHHS',\n",
       " 'SHHHSH',\n",
       " 'SHHHSS',\n",
       " 'SHHSHH',\n",
       " 'SHHSHS',\n",
       " 'SHHSSH',\n",
       " 'SHHSSS',\n",
       " 'SHSHHH',\n",
       " 'SHSHHS',\n",
       " 'SHSHSH',\n",
       " 'SHSHSS',\n",
       " 'SHSSHH',\n",
       " 'SHSSHS',\n",
       " 'SHSSSH',\n",
       " 'SHSSSS',\n",
       " 'SSHHHH',\n",
       " 'SSHHHS',\n",
       " 'SSHHSH',\n",
       " 'SSHHSS',\n",
       " 'SSHSHH',\n",
       " 'SSHSHS',\n",
       " 'SSHSSH',\n",
       " 'SSHSSS',\n",
       " 'SSSHHH',\n",
       " 'SSSHHS',\n",
       " 'SSSHSH',\n",
       " 'SSSHSS',\n",
       " 'SSSSHH',\n",
       " 'SSSSHS',\n",
       " 'SSSSSH',\n",
       " 'SSSSSS',\n",
       " 'HHHHHHH',\n",
       " 'HHHHHHS',\n",
       " 'HHHHHSH',\n",
       " 'HHHHHSS',\n",
       " 'HHHHSHH',\n",
       " 'HHHHSHS',\n",
       " 'HHHHSSH',\n",
       " 'HHHHSSS',\n",
       " 'HHHSHHH',\n",
       " 'HHHSHHS',\n",
       " 'HHHSHSH',\n",
       " 'HHHSHSS',\n",
       " 'HHHSSHH',\n",
       " 'HHHSSHS',\n",
       " 'HHHSSSH',\n",
       " 'HHHSSSS',\n",
       " 'HHSHHHH',\n",
       " 'HHSHHHS',\n",
       " 'HHSHHSH',\n",
       " 'HHSHHSS',\n",
       " 'HHSHSHH',\n",
       " 'HHSHSHS',\n",
       " 'HHSHSSH',\n",
       " 'HHSHSSS',\n",
       " 'HHSSHHH',\n",
       " 'HHSSHHS',\n",
       " 'HHSSHSH',\n",
       " 'HHSSHSS',\n",
       " 'HHSSSHH',\n",
       " 'HHSSSHS',\n",
       " 'HHSSSSH',\n",
       " 'HHSSSSS',\n",
       " 'HSHHHHH',\n",
       " 'HSHHHHS',\n",
       " 'HSHHHSH',\n",
       " 'HSHHHSS',\n",
       " 'HSHHSHH',\n",
       " 'HSHHSHS',\n",
       " 'HSHHSSH',\n",
       " 'HSHHSSS',\n",
       " 'HSHSHHH',\n",
       " 'HSHSHHS',\n",
       " 'HSHSHSH',\n",
       " 'HSHSHSS',\n",
       " 'HSHSSHH',\n",
       " 'HSHSSHS',\n",
       " 'HSHSSSH',\n",
       " 'HSHSSSS',\n",
       " 'HSSHHHH',\n",
       " 'HSSHHHS',\n",
       " 'HSSHHSH',\n",
       " 'HSSHHSS',\n",
       " 'HSSHSHH',\n",
       " 'HSSHSHS',\n",
       " 'HSSHSSH',\n",
       " 'HSSHSSS',\n",
       " 'HSSSHHH',\n",
       " 'HSSSHHS',\n",
       " 'HSSSHSH',\n",
       " 'HSSSHSS',\n",
       " 'HSSSSHH',\n",
       " 'HSSSSHS',\n",
       " 'HSSSSSH',\n",
       " 'HSSSSSS',\n",
       " 'SHHHHHH',\n",
       " 'SHHHHHS',\n",
       " 'SHHHHSH',\n",
       " 'SHHHHSS',\n",
       " 'SHHHSHH',\n",
       " 'SHHHSHS',\n",
       " 'SHHHSSH',\n",
       " 'SHHHSSS',\n",
       " 'SHHSHHH',\n",
       " 'SHHSHHS',\n",
       " 'SHHSHSH',\n",
       " 'SHHSHSS',\n",
       " 'SHHSSHH',\n",
       " 'SHHSSHS',\n",
       " 'SHHSSSH',\n",
       " 'SHHSSSS',\n",
       " 'SHSHHHH',\n",
       " 'SHSHHHS',\n",
       " 'SHSHHSH',\n",
       " 'SHSHHSS',\n",
       " 'SHSHSHH',\n",
       " 'SHSHSHS',\n",
       " 'SHSHSSH',\n",
       " 'SHSHSSS',\n",
       " 'SHSSHHH',\n",
       " 'SHSSHHS',\n",
       " 'SHSSHSH',\n",
       " 'SHSSHSS',\n",
       " 'SHSSSHH',\n",
       " 'SHSSSHS',\n",
       " 'SHSSSSH',\n",
       " 'SHSSSSS',\n",
       " 'SSHHHHH',\n",
       " 'SSHHHHS',\n",
       " 'SSHHHSH',\n",
       " 'SSHHHSS',\n",
       " 'SSHHSHH',\n",
       " 'SSHHSHS',\n",
       " 'SSHHSSH',\n",
       " 'SSHHSSS',\n",
       " 'SSHSHHH',\n",
       " 'SSHSHHS',\n",
       " 'SSHSHSH',\n",
       " 'SSHSHSS',\n",
       " 'SSHSSHH',\n",
       " 'SSHSSHS',\n",
       " 'SSHSSSH',\n",
       " 'SSHSSSS',\n",
       " 'SSSHHHH',\n",
       " 'SSSHHHS',\n",
       " 'SSSHHSH',\n",
       " 'SSSHHSS',\n",
       " 'SSSHSHH',\n",
       " 'SSSHSHS',\n",
       " 'SSSHSSH',\n",
       " 'SSSHSSS',\n",
       " 'SSSSHHH',\n",
       " 'SSSSHHS',\n",
       " 'SSSSHSH',\n",
       " 'SSSSHSS',\n",
       " 'SSSSSHH',\n",
       " 'SSSSSHS',\n",
       " 'SSSSSSH',\n",
       " 'SSSSSSS',\n",
       " 'HHHHHHHH',\n",
       " 'HHHHHHHS',\n",
       " 'HHHHHHSH',\n",
       " 'HHHHHHSS',\n",
       " 'HHHHHSHH',\n",
       " 'HHHHHSHS',\n",
       " 'HHHHHSSH',\n",
       " 'HHHHHSSS',\n",
       " 'HHHHSHHH',\n",
       " 'HHHHSHHS',\n",
       " 'HHHHSHSH',\n",
       " 'HHHHSHSS',\n",
       " 'HHHHSSHH',\n",
       " 'HHHHSSHS',\n",
       " 'HHHHSSSH',\n",
       " 'HHHHSSSS',\n",
       " 'HHHSHHHH',\n",
       " 'HHHSHHHS',\n",
       " 'HHHSHHSH',\n",
       " 'HHHSHHSS',\n",
       " 'HHHSHSHH',\n",
       " 'HHHSHSHS',\n",
       " 'HHHSHSSH',\n",
       " 'HHHSHSSS',\n",
       " 'HHHSSHHH',\n",
       " 'HHHSSHHS',\n",
       " 'HHHSSHSH',\n",
       " 'HHHSSHSS',\n",
       " 'HHHSSSHH',\n",
       " 'HHHSSSHS',\n",
       " 'HHHSSSSH',\n",
       " 'HHHSSSSS',\n",
       " 'HHSHHHHH',\n",
       " 'HHSHHHHS',\n",
       " 'HHSHHHSH',\n",
       " 'HHSHHHSS',\n",
       " 'HHSHHSHH',\n",
       " 'HHSHHSHS',\n",
       " 'HHSHHSSH',\n",
       " 'HHSHHSSS',\n",
       " 'HHSHSHHH',\n",
       " 'HHSHSHHS',\n",
       " 'HHSHSHSH',\n",
       " 'HHSHSHSS',\n",
       " 'HHSHSSHH',\n",
       " 'HHSHSSHS',\n",
       " 'HHSHSSSH',\n",
       " 'HHSHSSSS',\n",
       " 'HHSSHHHH',\n",
       " 'HHSSHHHS',\n",
       " 'HHSSHHSH',\n",
       " 'HHSSHHSS',\n",
       " 'HHSSHSHH',\n",
       " 'HHSSHSHS',\n",
       " 'HHSSHSSH',\n",
       " 'HHSSHSSS',\n",
       " 'HHSSSHHH',\n",
       " 'HHSSSHHS',\n",
       " 'HHSSSHSH',\n",
       " 'HHSSSHSS',\n",
       " 'HHSSSSHH',\n",
       " 'HHSSSSHS',\n",
       " 'HHSSSSSH',\n",
       " 'HHSSSSSS',\n",
       " 'HSHHHHHH',\n",
       " 'HSHHHHHS',\n",
       " 'HSHHHHSH',\n",
       " 'HSHHHHSS',\n",
       " 'HSHHHSHH',\n",
       " 'HSHHHSHS',\n",
       " 'HSHHHSSH',\n",
       " 'HSHHHSSS',\n",
       " 'HSHHSHHH',\n",
       " 'HSHHSHHS',\n",
       " 'HSHHSHSH',\n",
       " 'HSHHSHSS',\n",
       " 'HSHHSSHH',\n",
       " 'HSHHSSHS',\n",
       " 'HSHHSSSH',\n",
       " 'HSHHSSSS',\n",
       " 'HSHSHHHH',\n",
       " 'HSHSHHHS',\n",
       " 'HSHSHHSH',\n",
       " 'HSHSHHSS',\n",
       " 'HSHSHSHH',\n",
       " 'HSHSHSHS',\n",
       " 'HSHSHSSH',\n",
       " 'HSHSHSSS',\n",
       " 'HSHSSHHH',\n",
       " 'HSHSSHHS',\n",
       " 'HSHSSHSH',\n",
       " 'HSHSSHSS',\n",
       " 'HSHSSSHH',\n",
       " 'HSHSSSHS',\n",
       " 'HSHSSSSH',\n",
       " 'HSHSSSSS',\n",
       " 'HSSHHHHH',\n",
       " 'HSSHHHHS',\n",
       " 'HSSHHHSH',\n",
       " 'HSSHHHSS',\n",
       " 'HSSHHSHH',\n",
       " 'HSSHHSHS',\n",
       " 'HSSHHSSH',\n",
       " 'HSSHHSSS',\n",
       " 'HSSHSHHH',\n",
       " 'HSSHSHHS',\n",
       " 'HSSHSHSH',\n",
       " 'HSSHSHSS',\n",
       " 'HSSHSSHH',\n",
       " 'HSSHSSHS',\n",
       " 'HSSHSSSH',\n",
       " 'HSSHSSSS',\n",
       " 'HSSSHHHH',\n",
       " 'HSSSHHHS',\n",
       " 'HSSSHHSH',\n",
       " 'HSSSHHSS',\n",
       " 'HSSSHSHH',\n",
       " 'HSSSHSHS',\n",
       " 'HSSSHSSH',\n",
       " 'HSSSHSSS',\n",
       " 'HSSSSHHH',\n",
       " 'HSSSSHHS',\n",
       " 'HSSSSHSH',\n",
       " 'HSSSSHSS',\n",
       " 'HSSSSSHH',\n",
       " 'HSSSSSHS',\n",
       " 'HSSSSSSH',\n",
       " 'HSSSSSSS',\n",
       " 'SHHHHHHH',\n",
       " 'SHHHHHHS',\n",
       " 'SHHHHHSH',\n",
       " 'SHHHHHSS',\n",
       " 'SHHHHSHH',\n",
       " 'SHHHHSHS',\n",
       " 'SHHHHSSH',\n",
       " 'SHHHHSSS',\n",
       " 'SHHHSHHH',\n",
       " 'SHHHSHHS',\n",
       " 'SHHHSHSH',\n",
       " 'SHHHSHSS',\n",
       " 'SHHHSSHH',\n",
       " 'SHHHSSHS',\n",
       " 'SHHHSSSH',\n",
       " 'SHHHSSSS',\n",
       " 'SHHSHHHH',\n",
       " 'SHHSHHHS',\n",
       " 'SHHSHHSH',\n",
       " 'SHHSHHSS',\n",
       " 'SHHSHSHH',\n",
       " 'SHHSHSHS',\n",
       " 'SHHSHSSH',\n",
       " 'SHHSHSSS',\n",
       " 'SHHSSHHH',\n",
       " 'SHHSSHHS',\n",
       " 'SHHSSHSH',\n",
       " 'SHHSSHSS',\n",
       " 'SHHSSSHH',\n",
       " 'SHHSSSHS',\n",
       " 'SHHSSSSH',\n",
       " 'SHHSSSSS',\n",
       " 'SHSHHHHH',\n",
       " 'SHSHHHHS',\n",
       " 'SHSHHHSH',\n",
       " 'SHSHHHSS',\n",
       " 'SHSHHSHH',\n",
       " 'SHSHHSHS',\n",
       " 'SHSHHSSH',\n",
       " 'SHSHHSSS',\n",
       " 'SHSHSHHH',\n",
       " 'SHSHSHHS',\n",
       " 'SHSHSHSH',\n",
       " 'SHSHSHSS',\n",
       " 'SHSHSSHH',\n",
       " 'SHSHSSHS',\n",
       " 'SHSHSSSH',\n",
       " 'SHSHSSSS',\n",
       " 'SHSSHHHH',\n",
       " 'SHSSHHHS',\n",
       " 'SHSSHHSH',\n",
       " 'SHSSHHSS',\n",
       " 'SHSSHSHH',\n",
       " 'SHSSHSHS',\n",
       " 'SHSSHSSH',\n",
       " 'SHSSHSSS',\n",
       " 'SHSSSHHH',\n",
       " 'SHSSSHHS',\n",
       " 'SHSSSHSH',\n",
       " 'SHSSSHSS',\n",
       " 'SHSSSSHH',\n",
       " 'SHSSSSHS',\n",
       " 'SHSSSSSH',\n",
       " 'SHSSSSSS',\n",
       " 'SSHHHHHH',\n",
       " 'SSHHHHHS',\n",
       " 'SSHHHHSH',\n",
       " 'SSHHHHSS',\n",
       " 'SSHHHSHH',\n",
       " 'SSHHHSHS',\n",
       " 'SSHHHSSH',\n",
       " 'SSHHHSSS',\n",
       " 'SSHHSHHH',\n",
       " 'SSHHSHHS',\n",
       " 'SSHHSHSH',\n",
       " 'SSHHSHSS',\n",
       " 'SSHHSSHH',\n",
       " 'SSHHSSHS',\n",
       " 'SSHHSSSH',\n",
       " 'SSHHSSSS',\n",
       " 'SSHSHHHH',\n",
       " 'SSHSHHHS',\n",
       " 'SSHSHHSH',\n",
       " 'SSHSHHSS',\n",
       " 'SSHSHSHH',\n",
       " 'SSHSHSHS',\n",
       " 'SSHSHSSH',\n",
       " 'SSHSHSSS',\n",
       " 'SSHSSHHH',\n",
       " 'SSHSSHHS',\n",
       " 'SSHSSHSH',\n",
       " 'SSHSSHSS',\n",
       " 'SSHSSSHH',\n",
       " 'SSHSSSHS',\n",
       " 'SSHSSSSH',\n",
       " 'SSHSSSSS',\n",
       " 'SSSHHHHH',\n",
       " 'SSSHHHHS',\n",
       " 'SSSHHHSH',\n",
       " 'SSSHHHSS',\n",
       " 'SSSHHSHH',\n",
       " 'SSSHHSHS',\n",
       " 'SSSHHSSH',\n",
       " 'SSSHHSSS',\n",
       " 'SSSHSHHH',\n",
       " 'SSSHSHHS',\n",
       " 'SSSHSHSH',\n",
       " 'SSSHSHSS',\n",
       " 'SSSHSSHH',\n",
       " 'SSSHSSHS',\n",
       " 'SSSHSSSH',\n",
       " 'SSSHSSSS',\n",
       " 'SSSSHHHH',\n",
       " 'SSSSHHHS',\n",
       " 'SSSSHHSH',\n",
       " 'SSSSHHSS',\n",
       " 'SSSSHSHH',\n",
       " 'SSSSHSHS',\n",
       " 'SSSSHSSH',\n",
       " 'SSSSHSSS',\n",
       " 'SSSSSHHH',\n",
       " 'SSSSSHHS',\n",
       " 'SSSSSHSH',\n",
       " 'SSSSSHSS',\n",
       " 'SSSSSSHH',\n",
       " 'SSSSSSHS',\n",
       " 'SSSSSSSH',\n",
       " 'SSSSSSSS']"
      ]
     },
     "execution_count": 119,
     "metadata": {},
     "output_type": "execute_result"
    }
   ],
   "source": [
    "A"
   ]
  },
  {
   "cell_type": "code",
   "execution_count": 120,
   "id": "15ee38b9",
   "metadata": {},
   "outputs": [
    {
     "data": {
      "text/plain": [
       "2046"
      ]
     },
     "execution_count": 120,
     "metadata": {},
     "output_type": "execute_result"
    }
   ],
   "source": [
    "sum_index(11)"
   ]
  },
  {
   "cell_type": "code",
   "execution_count": 121,
   "id": "4aaa448d",
   "metadata": {},
   "outputs": [
    {
     "data": {
      "text/plain": [
       "array([[0., 0., 0.],\n",
       "       [0., 0., 0.],\n",
       "       [0., 0., 0.]])"
      ]
     },
     "execution_count": 121,
     "metadata": {},
     "output_type": "execute_result"
    }
   ],
   "source": [
    "np.zeros([3,3])"
   ]
  },
  {
   "cell_type": "code",
   "execution_count": 122,
   "id": "a694c8b2",
   "metadata": {},
   "outputs": [],
   "source": [
    "tes = np.array([[1,0,0],[0,0,1],[0,1,0]])"
   ]
  },
  {
   "cell_type": "code",
   "execution_count": 123,
   "id": "81649efc",
   "metadata": {},
   "outputs": [
    {
     "data": {
      "text/plain": [
       "array([[ 1.00000000e+00+0.00000000e+00j, -1.35312052e-16+5.55111512e-17j,\n",
       "        -1.28717208e-16+6.40987562e-17j],\n",
       "       [-1.35312052e-16+5.55111512e-17j,  2.22044605e-16+3.88578059e-16j,\n",
       "         1.00000000e+00-5.03894164e-16j],\n",
       "       [-1.28717208e-16+6.40987562e-17j,  1.00000000e+00-5.03894164e-16j,\n",
       "         1.11022302e-16+3.79990454e-16j]])"
      ]
     },
     "execution_count": 123,
     "metadata": {},
     "output_type": "execute_result"
    }
   ],
   "source": [
    "A_matrix[2]"
   ]
  },
  {
   "cell_type": "code",
   "execution_count": 124,
   "id": "303f9340",
   "metadata": {},
   "outputs": [
    {
     "data": {
      "text/plain": [
       "True"
      ]
     },
     "execution_count": 124,
     "metadata": {},
     "output_type": "execute_result"
    }
   ],
   "source": [
    "(np.round(tes - A_matrix[2],decimals = 3)== 0).all()"
   ]
  },
  {
   "cell_type": "code",
   "execution_count": 125,
   "id": "cc40909f",
   "metadata": {},
   "outputs": [],
   "source": [
    "A_matrix = []\n",
    "for i in range(len(A)):\n",
    "    result = np.complex128(np.zeros([3,3]))\n",
    "    for j in range(len(A[i]),):\n",
    "        if j == 0:\n",
    "            if A[i][j] == 'H': result += Hdm\n",
    "            elif A[i][j] == 'S': result += Sdg\n",
    "        else:\n",
    "            if A[i][j] == 'H': result = result@Hdm\n",
    "            elif A[i][j] =='S': result = result@Sdg\n",
    "    A_matrix.append(result)"
   ]
  },
  {
   "cell_type": "code",
   "execution_count": 143,
   "id": "12669af3",
   "metadata": {},
   "outputs": [],
   "source": [
    "A_matrix_flitered = []\n",
    "A_matrix_flitered_index = []\n",
    "for i in range(len(A_matrix)):\n",
    "    if i == 0:\n",
    "        A_matrix_flitered.append(A_matrix[i])\n",
    "        A_matrix_flitered_index.append(i)\n",
    "    else:\n",
    "        flag = True\n",
    "        for j in range(len(A_matrix_flitered)):\n",
    "            if (np.round(A_matrix[i] - A_matrix_flitered[j], decimals = 10) == 0).all():\n",
    "                flag = False\n",
    "                break\n",
    "            else: \n",
    "                continue\n",
    "        if flag == True:\n",
    "            A_matrix_flitered.append(A_matrix[i])\n",
    "            A_matrix_flitered_index.append(i)"
   ]
  },
  {
   "cell_type": "code",
   "execution_count": 144,
   "id": "886554ed",
   "metadata": {},
   "outputs": [
    {
     "name": "stdout",
     "output_type": "stream",
     "text": [
      "H\n",
      "S\n",
      "HH\n",
      "HS\n",
      "SH\n",
      "SS\n",
      "HHH\n",
      "HHS\n",
      "HSH\n",
      "HSS\n",
      "SHH\n",
      "SHS\n",
      "SSH\n",
      "SSS\n",
      "HHHS\n",
      "HHSH\n",
      "HHSS\n",
      "HSHH\n",
      "HSHS\n",
      "HSSH\n",
      "SHHH\n",
      "SHHS\n",
      "SHSH\n",
      "SHSS\n",
      "SSHH\n",
      "SSHS\n",
      "HHHSH\n",
      "HHHSS\n",
      "HHSHH\n",
      "HHSHS\n",
      "HHSSH\n",
      "HSHHH\n",
      "HSHHS\n",
      "HSHSH\n",
      "HSHSS\n",
      "HSSHH\n",
      "HSSHS\n",
      "SHHHS\n",
      "SHHSH\n",
      "SHHSS\n",
      "SHSHH\n",
      "SHSHS\n",
      "SHSSH\n",
      "SSHHH\n",
      "SSHHS\n",
      "SSHSH\n",
      "SSHSS\n",
      "HHHSHH\n",
      "HHHSHS\n",
      "HHHSSH\n",
      "HHSHHH\n",
      "HHSHHS\n",
      "HHSHSH\n",
      "HHSHSS\n",
      "HHSSHH\n",
      "HHSSHS\n",
      "HSHHHS\n",
      "HSHHSH\n",
      "HSHHSS\n",
      "HSHSHH\n",
      "HSHSHS\n",
      "HSHSSH\n",
      "HSSHHH\n",
      "HSSHHS\n",
      "HSSHSH\n",
      "HSSHSS\n",
      "SHHHSH\n",
      "SHHHSS\n",
      "SHHSHS\n",
      "SHHSSH\n",
      "SHSHHH\n",
      "SHSHHS\n",
      "SHSHSS\n",
      "SHSSHH\n",
      "SHSSHS\n",
      "SSHHHS\n",
      "SSHHSH\n",
      "SSHHSS\n",
      "SSHSHH\n",
      "SSHSHS\n",
      "SSHSSH\n",
      "HHHSHHH\n",
      "HHHSHHS\n",
      "HHHSHSH\n",
      "HHHSHSS\n",
      "HHHSSHH\n",
      "HHHSSHS\n",
      "HHSHHHS\n",
      "HHSHHSH\n",
      "HHSHHSS\n",
      "HHSHSHH\n",
      "HHSHSHS\n",
      "HHSHSSH\n",
      "HHSSHHH\n",
      "HHSSHHS\n",
      "HHSSHSH\n",
      "HHSSHSS\n",
      "HSHHHSH\n",
      "HSHHHSS\n",
      "HSHHSHS\n",
      "HSHHSSH\n",
      "HSHSHHH\n",
      "HSHSHHS\n",
      "HSHSHSS\n",
      "HSHSSHH\n",
      "HSHSSHS\n",
      "HSSHHHS\n",
      "HSSHHSH\n",
      "HSSHHSS\n",
      "HSSHSHH\n",
      "HSSHSHS\n",
      "HSSHSSH\n",
      "SHHHSHH\n",
      "SHHHSHS\n",
      "SHHHSSH\n",
      "SHHSHSH\n",
      "SHHSHSS\n",
      "SHHSSHS\n",
      "SHSHHHS\n",
      "SHSHHSH\n",
      "SHSHHSS\n",
      "SHSHSSH\n",
      "SHSSHHH\n",
      "SHSSHHS\n",
      "SHSSHSH\n",
      "SHSSHSS\n",
      "SSHHHSH\n",
      "SSHHHSS\n",
      "SSHHSHS\n",
      "SSHHSSH\n",
      "SSHSHHH\n",
      "SSHSHHS\n",
      "SSHSHSS\n",
      "SSHSSHH\n",
      "SSHSSHS\n",
      "HHHSHHHS\n",
      "HHHSHHSH\n",
      "HHHSHHSS\n",
      "HHHSHSHH\n",
      "HHHSHSHS\n",
      "HHHSHSSH\n",
      "HHHSSHHH\n",
      "HHHSSHHS\n",
      "HHHSSHSH\n",
      "HHHSSHSS\n",
      "HHSHHHSH\n",
      "HHSHHHSS\n",
      "HHSHHSHS\n",
      "HHSHHSSH\n",
      "HHSHSHHH\n",
      "HHSHSHHS\n",
      "HHSHSHSS\n",
      "HHSHSSHH\n",
      "HHSHSSHS\n",
      "HHSSHHHS\n",
      "HHSSHHSH\n",
      "HHSSHHSS\n",
      "HHSSHSHH\n",
      "HHSSHSHS\n",
      "HHSSHSSH\n",
      "HSHHHSHH\n",
      "HSHHHSHS\n",
      "HSHHHSSH\n",
      "HSHHSHSH\n",
      "HSHHSHSS\n",
      "HSHHSSHS\n",
      "HSHSHHHS\n",
      "HSHSHHSH\n",
      "HSHSHHSS\n",
      "HSHSHSSH\n",
      "HSHSSHHH\n",
      "HSHSSHHS\n",
      "HSHSSHSH\n",
      "HSHSSHSS\n",
      "HSSHHHSH\n",
      "HSSHHHSS\n",
      "HSSHHSHS\n",
      "HSSHHSSH\n",
      "HSSHSHHH\n",
      "HSSHSHHS\n",
      "HSSHSHSS\n",
      "HSSHSSHH\n",
      "HSSHSSHS\n",
      "SHHHSHHH\n",
      "SHHHSHHS\n",
      "SHHHSHSH\n",
      "SHHHSHSS\n",
      "SHHHSSHH\n",
      "SHHHSSHS\n",
      "SHHSHSHH\n",
      "SHHSHSSH\n",
      "SHHSSHSH\n",
      "SHHSSHSS\n",
      "SHSHHHSS\n",
      "SHSHHSHS\n",
      "SHSHHSSH\n",
      "SHSHSSHH\n",
      "SHSHSSHS\n",
      "SHSSHHHS\n",
      "SHSSHHSH\n",
      "SHSSHHSS\n",
      "SHSSHSHS\n",
      "SHSSHSSH\n",
      "SSHHHSHH\n",
      "SSHHHSHS\n",
      "SSHHHSSH\n",
      "SSHHSHSS\n",
      "SSHHSSHS\n",
      "SSHSHHHS\n",
      "SSHSHHSH\n",
      "SSHSHHSS\n",
      "SSHSHSSH\n",
      "SSHSSHHH\n",
      "SSHSSHHS\n",
      "SSHSSHSH\n",
      "SSHSSHSS\n"
     ]
    }
   ],
   "source": [
    "for i in A_matrix_flitered_index:\n",
    "    print(A[i])"
   ]
  },
  {
   "cell_type": "code",
   "execution_count": 145,
   "id": "d2985022",
   "metadata": {},
   "outputs": [],
   "source": [
    "for i in range(len(A_matrix_flitered)):\n",
    "    A_matrix_flitered[i] = np.round(A_matrix_flitered[i], decimals = 10)"
   ]
  },
  {
   "cell_type": "code",
   "execution_count": 149,
   "id": "d2bc65df",
   "metadata": {},
   "outputs": [],
   "source": [
    "Clifford3 = A_matrix_flitered"
   ]
  },
  {
   "cell_type": "code",
   "execution_count": 151,
   "id": "ac13e289",
   "metadata": {},
   "outputs": [
    {
     "data": {
      "text/latex": [
       "$$\n",
       "\\text{Unitary} = \n",
       "\\begin{bmatrix}\n",
       "\\tfrac{1}{\\sqrt{3}} & \\tfrac{1}{\\sqrt{3}} & \\tfrac{1}{\\sqrt{3}}  \\\\\n",
       " \\tfrac{1}{\\sqrt{3}} & -0.28868 + \\tfrac{1}{2}i & -0.28868 - \\tfrac{1}{2}i  \\\\\n",
       " \\tfrac{1}{\\sqrt{3}} & -0.28868 - \\tfrac{1}{2}i & -0.28868 + \\tfrac{1}{2}i  \\\\\n",
       " \\end{bmatrix}\n",
       "$$"
      ],
      "text/plain": [
       "<IPython.core.display.Latex object>"
      ]
     },
     "execution_count": 151,
     "metadata": {},
     "output_type": "execute_result"
    }
   ],
   "source": [
    "array_to_latex(Clifford3[0], prefix=\"\\\\text{Unitary} = \")"
   ]
  },
  {
   "cell_type": "code",
   "execution_count": 152,
   "id": "7d6a4295",
   "metadata": {},
   "outputs": [
    {
     "data": {
      "text/latex": [
       "$$\n",
       "\\text{Unitary} = \n",
       "\\begin{bmatrix}\n",
       "1 & 0 & 0  \\\\\n",
       " 0 & 1 & 0  \\\\\n",
       " 0 & 0 & -\\tfrac{1}{2} + \\sqrt{\\tfrac{3}{4}}i  \\\\\n",
       " \\end{bmatrix}\n",
       "$$"
      ],
      "text/plain": [
       "<IPython.core.display.Latex object>"
      ]
     },
     "execution_count": 152,
     "metadata": {},
     "output_type": "execute_result"
    }
   ],
   "source": [
    "array_to_latex(Clifford3[1], prefix=\"\\\\text{Unitary} = \")"
   ]
  },
  {
   "cell_type": "code",
   "execution_count": 153,
   "id": "3a7e0c68",
   "metadata": {},
   "outputs": [
    {
     "data": {
      "text/latex": [
       "$$\n",
       "\\text{Unitary} = \n",
       "\\begin{bmatrix}\n",
       "1 & 0 & 0  \\\\\n",
       " 0 & 0 & 1  \\\\\n",
       " 0 & 1 & 0  \\\\\n",
       " \\end{bmatrix}\n",
       "$$"
      ],
      "text/plain": [
       "<IPython.core.display.Latex object>"
      ]
     },
     "execution_count": 153,
     "metadata": {},
     "output_type": "execute_result"
    }
   ],
   "source": [
    "array_to_latex(Clifford3[2], prefix=\"\\\\text{Unitary} = \")"
   ]
  },
  {
   "cell_type": "code",
   "execution_count": 154,
   "id": "ea8c032c",
   "metadata": {},
   "outputs": [
    {
     "data": {
      "text/latex": [
       "$$\n",
       "\\text{Unitary} = \n",
       "\\begin{bmatrix}\n",
       "\\tfrac{1}{\\sqrt{3}} & \\tfrac{1}{\\sqrt{3}} & -0.28868 + \\tfrac{1}{2}i  \\\\\n",
       " \\tfrac{1}{\\sqrt{3}} & -0.28868 + \\tfrac{1}{2}i & \\tfrac{1}{\\sqrt{3}}  \\\\\n",
       " \\tfrac{1}{\\sqrt{3}} & -0.28868 - \\tfrac{1}{2}i & -0.28868 - \\tfrac{1}{2}i  \\\\\n",
       " \\end{bmatrix}\n",
       "$$"
      ],
      "text/plain": [
       "<IPython.core.display.Latex object>"
      ]
     },
     "execution_count": 154,
     "metadata": {},
     "output_type": "execute_result"
    }
   ],
   "source": [
    "array_to_latex(Clifford3[3], prefix=\"\\\\text{Unitary} = \")"
   ]
  },
  {
   "cell_type": "code",
   "execution_count": 155,
   "id": "5cf5315d",
   "metadata": {},
   "outputs": [
    {
     "data": {
      "text/latex": [
       "$$\n",
       "\\text{Unitary} = \n",
       "\\begin{bmatrix}\n",
       "\\tfrac{1}{\\sqrt{3}} & \\tfrac{1}{\\sqrt{3}} & \\tfrac{1}{\\sqrt{3}}  \\\\\n",
       " \\tfrac{1}{\\sqrt{3}} & -0.28868 + \\tfrac{1}{2}i & -0.28868 - \\tfrac{1}{2}i  \\\\\n",
       " -0.28868 + \\tfrac{1}{2}i & \\tfrac{1}{\\sqrt{3}} & -0.28868 - \\tfrac{1}{2}i  \\\\\n",
       " \\end{bmatrix}\n",
       "$$"
      ],
      "text/plain": [
       "<IPython.core.display.Latex object>"
      ]
     },
     "execution_count": 155,
     "metadata": {},
     "output_type": "execute_result"
    }
   ],
   "source": [
    "array_to_latex(Clifford3[4], prefix=\"\\\\text{Unitary} = \")"
   ]
  },
  {
   "cell_type": "code",
   "execution_count": 156,
   "id": "74fc5e78",
   "metadata": {},
   "outputs": [
    {
     "data": {
      "text/latex": [
       "$$\n",
       "\\text{Unitary} = \n",
       "\\begin{bmatrix}\n",
       "1 & 0 & 0  \\\\\n",
       " 0 & 1 & 0  \\\\\n",
       " 0 & 0 & -\\tfrac{1}{2} - \\sqrt{\\tfrac{3}{4}}i  \\\\\n",
       " \\end{bmatrix}\n",
       "$$"
      ],
      "text/plain": [
       "<IPython.core.display.Latex object>"
      ]
     },
     "execution_count": 156,
     "metadata": {},
     "output_type": "execute_result"
    }
   ],
   "source": [
    "array_to_latex(Clifford3[5], prefix=\"\\\\text{Unitary} = \")"
   ]
  },
  {
   "cell_type": "code",
   "execution_count": 157,
   "id": "6045cf2d",
   "metadata": {},
   "outputs": [
    {
     "data": {
      "text/latex": [
       "$$\n",
       "\\text{Unitary} = \n",
       "\\begin{bmatrix}\n",
       "\\tfrac{1}{\\sqrt{3}} & \\tfrac{1}{\\sqrt{3}} & \\tfrac{1}{\\sqrt{3}}  \\\\\n",
       " \\tfrac{1}{\\sqrt{3}} & -0.28868 - \\tfrac{1}{2}i & -0.28868 + \\tfrac{1}{2}i  \\\\\n",
       " \\tfrac{1}{\\sqrt{3}} & -0.28868 + \\tfrac{1}{2}i & -0.28868 - \\tfrac{1}{2}i  \\\\\n",
       " \\end{bmatrix}\n",
       "$$"
      ],
      "text/plain": [
       "<IPython.core.display.Latex object>"
      ]
     },
     "execution_count": 157,
     "metadata": {},
     "output_type": "execute_result"
    }
   ],
   "source": [
    "array_to_latex(Clifford3[6], prefix=\"\\\\text{Unitary} = \")"
   ]
  },
  {
   "cell_type": "code",
   "execution_count": 158,
   "id": "a5166d71",
   "metadata": {},
   "outputs": [
    {
     "data": {
      "text/latex": [
       "$$\n",
       "\\text{Unitary} = \n",
       "\\begin{bmatrix}\n",
       "1 & 0 & 0  \\\\\n",
       " 0 & 0 & -\\tfrac{1}{2} + \\sqrt{\\tfrac{3}{4}}i  \\\\\n",
       " 0 & 1 & 0  \\\\\n",
       " \\end{bmatrix}\n",
       "$$"
      ],
      "text/plain": [
       "<IPython.core.display.Latex object>"
      ]
     },
     "execution_count": 158,
     "metadata": {},
     "output_type": "execute_result"
    }
   ],
   "source": [
    "array_to_latex(Clifford3[7], prefix=\"\\\\text{Unitary} = \")"
   ]
  },
  {
   "cell_type": "code",
   "execution_count": 159,
   "id": "ca779f0a",
   "metadata": {},
   "outputs": [
    {
     "data": {
      "text/latex": [
       "$$\n",
       "\\text{Unitary} = \n",
       "\\begin{bmatrix}\n",
       "\\tfrac{1}{2} + 0.28868i & \\tfrac{1}{2} + 0.28868i & -\\tfrac{1}{\\sqrt{3}}i  \\\\\n",
       " \\tfrac{1}{2} + 0.28868i & -\\tfrac{1}{\\sqrt{3}}i & \\tfrac{1}{2} + 0.28868i  \\\\\n",
       " -\\tfrac{1}{\\sqrt{3}}i & \\tfrac{1}{2} + 0.28868i & \\tfrac{1}{2} + 0.28868i  \\\\\n",
       " \\end{bmatrix}\n",
       "$$"
      ],
      "text/plain": [
       "<IPython.core.display.Latex object>"
      ]
     },
     "execution_count": 159,
     "metadata": {},
     "output_type": "execute_result"
    }
   ],
   "source": [
    "array_to_latex(Clifford3[8], prefix=\"\\\\text{Unitary} = \")"
   ]
  },
  {
   "cell_type": "code",
   "execution_count": 160,
   "id": "68d875fc",
   "metadata": {},
   "outputs": [
    {
     "data": {
      "text/latex": [
       "$$\n",
       "\\text{Unitary} = \n",
       "\\begin{bmatrix}\n",
       "\\tfrac{1}{\\sqrt{3}} & \\tfrac{1}{\\sqrt{3}} & -0.28868 - \\tfrac{1}{2}i  \\\\\n",
       " \\tfrac{1}{\\sqrt{3}} & -0.28868 + \\tfrac{1}{2}i & -0.28868 + \\tfrac{1}{2}i  \\\\\n",
       " \\tfrac{1}{\\sqrt{3}} & -0.28868 - \\tfrac{1}{2}i & \\tfrac{1}{\\sqrt{3}}  \\\\\n",
       " \\end{bmatrix}\n",
       "$$"
      ],
      "text/plain": [
       "<IPython.core.display.Latex object>"
      ]
     },
     "execution_count": 160,
     "metadata": {},
     "output_type": "execute_result"
    }
   ],
   "source": [
    "array_to_latex(Clifford3[9], prefix=\"\\\\text{Unitary} = \")"
   ]
  },
  {
   "cell_type": "code",
   "execution_count": 161,
   "id": "363225cd",
   "metadata": {},
   "outputs": [
    {
     "data": {
      "text/latex": [
       "$$\n",
       "\\text{Unitary} = \n",
       "\\begin{bmatrix}\n",
       "1 & 0 & 0  \\\\\n",
       " 0 & 0 & 1  \\\\\n",
       " 0 & -\\tfrac{1}{2} + \\sqrt{\\tfrac{3}{4}}i & 0  \\\\\n",
       " \\end{bmatrix}\n",
       "$$"
      ],
      "text/plain": [
       "<IPython.core.display.Latex object>"
      ]
     },
     "execution_count": 161,
     "metadata": {},
     "output_type": "execute_result"
    }
   ],
   "source": [
    "array_to_latex(Clifford3[10], prefix=\"\\\\text{Unitary} = \")"
   ]
  },
  {
   "cell_type": "code",
   "execution_count": 162,
   "id": "a808b0c0",
   "metadata": {},
   "outputs": [
    {
     "data": {
      "text/latex": [
       "$$\n",
       "\\text{Unitary} = \n",
       "\\begin{bmatrix}\n",
       "\\tfrac{1}{\\sqrt{3}} & \\tfrac{1}{\\sqrt{3}} & -0.28868 + \\tfrac{1}{2}i  \\\\\n",
       " \\tfrac{1}{\\sqrt{3}} & -0.28868 + \\tfrac{1}{2}i & \\tfrac{1}{\\sqrt{3}}  \\\\\n",
       " -0.28868 + \\tfrac{1}{2}i & \\tfrac{1}{\\sqrt{3}} & \\tfrac{1}{\\sqrt{3}}  \\\\\n",
       " \\end{bmatrix}\n",
       "$$"
      ],
      "text/plain": [
       "<IPython.core.display.Latex object>"
      ]
     },
     "execution_count": 162,
     "metadata": {},
     "output_type": "execute_result"
    }
   ],
   "source": [
    "array_to_latex(Clifford3[11], prefix=\"\\\\text{Unitary} = \")"
   ]
  },
  {
   "cell_type": "code",
   "execution_count": 163,
   "id": "8f0308b8",
   "metadata": {},
   "outputs": [
    {
     "data": {
      "text/latex": [
       "$$\n",
       "\\text{Unitary} = \n",
       "\\begin{bmatrix}\n",
       "\\tfrac{1}{\\sqrt{3}} & \\tfrac{1}{\\sqrt{3}} & \\tfrac{1}{\\sqrt{3}}  \\\\\n",
       " \\tfrac{1}{\\sqrt{3}} & -0.28868 + \\tfrac{1}{2}i & -0.28868 - \\tfrac{1}{2}i  \\\\\n",
       " -0.28868 - \\tfrac{1}{2}i & -0.28868 + \\tfrac{1}{2}i & \\tfrac{1}{\\sqrt{3}}  \\\\\n",
       " \\end{bmatrix}\n",
       "$$"
      ],
      "text/plain": [
       "<IPython.core.display.Latex object>"
      ]
     },
     "execution_count": 163,
     "metadata": {},
     "output_type": "execute_result"
    }
   ],
   "source": [
    "array_to_latex(Clifford3[12], prefix=\"\\\\text{Unitary} = \")"
   ]
  },
  {
   "cell_type": "code",
   "execution_count": null,
   "id": "44084953",
   "metadata": {},
   "outputs": [],
   "source": []
  }
 ],
 "metadata": {
  "kernelspec": {
   "display_name": "Python 3",
   "language": "python",
   "name": "python3"
  },
  "language_info": {
   "codemirror_mode": {
    "name": "ipython",
    "version": 3
   },
   "file_extension": ".py",
   "mimetype": "text/x-python",
   "name": "python",
   "nbconvert_exporter": "python",
   "pygments_lexer": "ipython3",
   "version": "3.8.8"
  }
 },
 "nbformat": 4,
 "nbformat_minor": 5
}
